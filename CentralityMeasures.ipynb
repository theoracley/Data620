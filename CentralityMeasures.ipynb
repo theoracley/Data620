{
 "cells": [
  {
   "cell_type": "markdown",
   "metadata": {},
   "source": [
    "# Centrality Measures"
   ]
  },
  {
   "cell_type": "markdown",
   "metadata": {},
   "source": [
    "By: Abdelmalek Hajjam and Monu Chacko"
   ]
  },
  {
   "cell_type": "markdown",
   "metadata": {},
   "source": [
    "Centrality is a measure that tell us how influential a node is in a network. The degree of connectivity is measure by how many nodes that is connected to it. It is important to measure how significant the node is to its network. There are many measures that could be used to calculate its influence. The centrality can be analyzed by looking at quality of the node and how important it is to the network. In other words, can the node be replaced easily.\n",
    "\n",
    "To analyze the centrality of the node, we can find out its degree of connectivity, closeness centrality (how close it is to other nodes), betweeness centrality and prestige centrality."
   ]
  },
  {
   "cell_type": "markdown",
   "metadata": {},
   "source": [
    "## Dataset"
   ]
  },
  {
   "cell_type": "markdown",
   "metadata": {},
   "source": [
    "For this study we are using dataset from \"Rich Club Organization and Intermodule Communication inthe Cat Connectome\" (https://www.jneurosci.org/content/jneuro/33/32/12929.full.pdf)"
   ]
  },
  {
   "cell_type": "markdown",
   "metadata": {},
   "source": [
    "Brain function depends on efficient processing and integration of information within a complex network of neuronal interactions. Studies examining the macroscopic architecture of neural net-works have suggested that the mammalian brain, and likely neural systems in general.\n",
    "\n",
    "## Centrality/ Analysis Plan\n",
    "\n",
    "For each node, the betweenness centrality B, and level of \"PageRank\" centrality were computed. The level of B, of node i expresses the proportion of all shortest paths between node j and node h in the network that travel through node i, summed over all combinations of hand j in the network (with h * j), and provides an estimate of the role of a node in global network communication. The level of PageRank i of a node reflects how frequently node i is visited by a (infinite) random walker, a type of analysis that has been suggested to provide insight into diffusion like communication processes in a graph. Higher levels of PageRank i reflect a more central role of a node in the overall network topology."
   ]
  },
  {
   "cell_type": "markdown",
   "metadata": {},
   "source": [
    "![title](web001.png)"
   ]
  }
 ],
 "metadata": {
  "kernelspec": {
   "display_name": "Python 3",
   "language": "python",
   "name": "python3"
  },
  "language_info": {
   "codemirror_mode": {
    "name": "ipython",
    "version": 3
   },
   "file_extension": ".py",
   "mimetype": "text/x-python",
   "name": "python",
   "nbconvert_exporter": "python",
   "pygments_lexer": "ipython3",
   "version": "3.7.0"
  }
 },
 "nbformat": 4,
 "nbformat_minor": 2
}
