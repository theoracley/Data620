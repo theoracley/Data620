{
 "cells": [
  {
   "cell_type": "code",
   "execution_count": 4,
   "metadata": {},
   "outputs": [],
   "source": [
    "#Abdelmalek Hajjam\n",
    "#Data620\n",
    "\n",
    "import networkx as nx\n",
    "import matplotlib.pyplot as plt\n",
    "%matplotlib inline"
   ]
  },
  {
   "cell_type": "code",
   "execution_count": 10,
   "metadata": {},
   "outputs": [
    {
     "name": "stdout",
     "output_type": "stream",
     "text": [
      "[('Carol', 'Andre'), ('Carol', 'Diane'), ('Carol', 'Fernando'), ('Andre', 'Diane'), ('Andre', 'Beverly'), ('Andre', 'Fernando'), ('Diane', 'Beverly'), ('Diane', 'Fernando'), ('Diane', 'Garth'), ('Diane', 'Ed'), ('Fernando', 'Garth'), ('Fernando', 'Heather'), ('Beverly', 'Ed'), ('Beverly', 'Garth'), ('Ed', 'Garth'), ('Garth', 'Heather'), ('Heather', 'Ike'), ('Ike', 'Jane')]\n"
     ]
    },
    {
     "data": {
      "image/png": "[encoded data removed]",
      "text/plain": [
       "<Figure size 432x288 with 1 Axes>"
      ]
     },
     "metadata": {},
     "output_type": "display_data"
    }
   ],
   "source": [
    "\n",
    "#create an empty graph\n",
    "G=nx.Graph()\n",
    "\n",
    "#create edges for our graph\n",
    "G.add_edge('Carol','Andre')\n",
    "G.add_edge('Carol','Diane')\n",
    "G.add_edge('Carol','Fernando')\n",
    "\n",
    "G.add_edge('Andre','Carol')\n",
    "G.add_edge('Andre','Diane')\n",
    "G.add_edge('Andre','Beverly')\n",
    "\n",
    "G.add_edge('Beverly','Andre')\n",
    "G.add_edge('Beverly','Diane')\n",
    "G.add_edge('Beverly','Ed')\n",
    "\n",
    "G.add_edge('Fernando','Garth')\n",
    "G.add_edge('Fernando','Diane')\n",
    "G.add_edge('Fernando','Carol')\n",
    "\n",
    "G.add_edge('Garth','Ed')\n",
    "G.add_edge('Garth','Diane')\n",
    "G.add_edge('Garth','Fernando')\n",
    "G.add_edge('Garth','Heather')\n",
    "\n",
    "G.add_edge('Ed','Beverly')\n",
    "G.add_edge('Ed','Diane')\n",
    "G.add_edge('Ed','Garth')\n",
    "\n",
    "G.add_edge('Heather','Fernando')\n",
    "G.add_edge('Heather','Garth')\n",
    "G.add_edge('Heather','Ike')\n",
    "G.add_edge('Ike','Heather')\n",
    "G.add_edge('Ike','Jane')\n",
    "G.add_edge('Jane','Ike')\n",
    "\n",
    "G.add_edge(\"Andre\", \"Fernando\")\n",
    "G.add_edge(\"Beverly\", \"Garth\")\n",
    "\n",
    "\n",
    "positions={'Andre':(0,1),\n",
    "     'Beverly':(0,-1),\n",
    "     'Carol':(1,2),\n",
    "     'Diane':(1,0),\n",
    "     'Ed':(1,-2),\n",
    "     'Ike':(4,0),\n",
    "     'Garth':(2,-1),\n",
    "     'Jane':(5,0),\n",
    "     'Fernando':(2,1),\n",
    "     'Heather':(3,0)}\n",
    "\n",
    "\n",
    "#drawing the nodes\n",
    "nx.draw_networkx_nodes(G,positions,node_size=800,node_color='#64ffda')\n",
    "\n",
    "# edges\n",
    "nx.draw_networkx_edges(G,positions,width=3,edge_color=\"#f48fb1\")\n",
    "    \n",
    "# labels\n",
    "nx.draw_networkx_labels(G,positions,font_family=\"sans-serif\",font_weight=\"regular\") \n",
    "\n",
    "#print(list(G.edges()))\n",
    "\n",
    "# plt.axis('off')\n",
    "# plt.title('Hello, graph World!!')\n",
    "plt.show()"
   ]
  },
  {
   "cell_type": "code",
   "execution_count": null,
   "metadata": {},
   "outputs": [],
   "source": []
  }
 ],
 "metadata": {
  "kernelspec": {
   "display_name": "Python 3",
   "language": "python",
   "name": "python3"
  },
  "language_info": {
   "codemirror_mode": {
    "name": "ipython",
    "version": 3
   },
   "file_extension": ".py",
   "mimetype": "text/x-python",
   "name": "python",
   "nbconvert_exporter": "python",
   "pygments_lexer": "ipython3",
   "version": "3.7.4"
  }
 },
 "nbformat": 4,
 "nbformat_minor": 2
}
